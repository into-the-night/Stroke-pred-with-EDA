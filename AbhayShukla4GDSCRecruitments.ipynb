{
  "nbformat": 4,
  "nbformat_minor": 0,
  "metadata": {
    "colab": {
      "provenance": [],
      "authorship_tag": "ABX9TyPfiOQ+ebKmRb6CXG26sAE1",
      "include_colab_link": true
    },
    "kernelspec": {
      "name": "python3",
      "display_name": "Python 3"
    },
    "language_info": {
      "name": "python"
    }
  },
  "cells": [
    {
      "cell_type": "markdown",
      "metadata": {
        "id": "view-in-github",
        "colab_type": "text"
      },
      "source": [
        "<a href=\"https://colab.research.google.com/github/into-the-night/Stroke-pred-with-EDA/blob/main/AbhayShukla4GDSCRecruitments.ipynb\" target=\"_parent\"><img src=\"https://colab.research.google.com/assets/colab-badge.svg\" alt=\"Open In Colab\"/></a>"
      ]
    },
    {
      "cell_type": "markdown",
      "source": [
        "## EDA and classification using Neural Network on Stroke Prediction Dataset\n",
        "\n",
        "###by Abhay Shukla"
      ],
      "metadata": {
        "id": "f8wywqjNU_jn"
      }
    },
    {
      "cell_type": "markdown",
      "source": [
        "Importing the dataset"
      ],
      "metadata": {
        "id": "sS3yejvZVoZl"
      }
    },
    {
      "cell_type": "code",
      "source": [
        "from google.colab import userdata\n",
        "import os\n",
        "\n",
        "os.environ[\"KAGGLE_KEY\"] = \"kangkangmygoat\" # Credentials from a dummy kaggle account\n",
        "os.environ[\"KAGGLE_USERNAME\"] = \"15810205a8fb3987e2b9bc759ba4fc03\"\n",
        "\n",
        "!kaggle datasets download -d fedesoriano/stroke-prediction-dataset\n",
        "\n",
        "! unzip \"stroke-prediction-dataset.zip\""
      ],
      "metadata": {
        "id": "7dHTXfS28w87",
        "colab": {
          "base_uri": "https://localhost:8080/"
        },
        "outputId": "004ea22b-acc4-449f-a760-341d6d0194bd"
      },
      "execution_count": 1,
      "outputs": [
        {
          "output_type": "stream",
          "name": "stdout",
          "text": [
            "Downloading stroke-prediction-dataset.zip to /content\n",
            "\r  0% 0.00/67.4k [00:00<?, ?B/s]\n",
            "\r100% 67.4k/67.4k [00:00<00:00, 47.4MB/s]\n",
            "Archive:  stroke-prediction-dataset.zip\n",
            "  inflating: healthcare-dataset-stroke-data.csv  \n"
          ]
        }
      ]
    },
    {
      "cell_type": "markdown",
      "source": [],
      "metadata": {
        "id": "pY6H7N3Qzq9M"
      }
    },
    {
      "cell_type": "code",
      "source": [
        "import numpy as np\n",
        "import pandas as pd\n",
        "import matplotlib.pyplot as plt\n",
        "import seaborn as sns\n",
        "import tensorflow as tf\n",
        "from sklearn.preprocessing import StandardScaler\n",
        "from sklearn.metrics import classification_report"
      ],
      "metadata": {
        "id": "afzt_Ng8DuHn"
      },
      "execution_count": 2,
      "outputs": []
    },
    {
      "cell_type": "code",
      "source": [
        "df = pd.read_csv('/content/healthcare-dataset-stroke-data.csv')\n",
        "df.head()"
      ],
      "metadata": {
        "colab": {
          "base_uri": "https://localhost:8080/",
          "height": 206
        },
        "id": "IvNf26SfD2V0",
        "outputId": "f6b6884c-7bd8-474e-af70-7617938a5d74"
      },
      "execution_count": 3,
      "outputs": [
        {
          "output_type": "execute_result",
          "data": {
            "text/plain": [
              "      id  gender   age  hypertension  heart_disease ever_married  \\\n",
              "0   9046    Male  67.0             0              1          Yes   \n",
              "1  51676  Female  61.0             0              0          Yes   \n",
              "2  31112    Male  80.0             0              1          Yes   \n",
              "3  60182  Female  49.0             0              0          Yes   \n",
              "4   1665  Female  79.0             1              0          Yes   \n",
              "\n",
              "       work_type Residence_type  avg_glucose_level   bmi   smoking_status  \\\n",
              "0        Private          Urban             228.69  36.6  formerly smoked   \n",
              "1  Self-employed          Rural             202.21   NaN     never smoked   \n",
              "2        Private          Rural             105.92  32.5     never smoked   \n",
              "3        Private          Urban             171.23  34.4           smokes   \n",
              "4  Self-employed          Rural             174.12  24.0     never smoked   \n",
              "\n",
              "   stroke  \n",
              "0       1  \n",
              "1       1  \n",
              "2       1  \n",
              "3       1  \n",
              "4       1  "
            ],
            "text/html": [
              "\n",
              "  <div id=\"df-0758c269-8508-469d-8c6f-0b370bb23898\" class=\"colab-df-container\">\n",
              "    <div>\n",
              "<style scoped>\n",
              "    .dataframe tbody tr th:only-of-type {\n",
              "        vertical-align: middle;\n",
              "    }\n",
              "\n",
              "    .dataframe tbody tr th {\n",
              "        vertical-align: top;\n",
              "    }\n",
              "\n",
              "    .dataframe thead th {\n",
              "        text-align: right;\n",
              "    }\n",
              "</style>\n",
              "<table border=\"1\" class=\"dataframe\">\n",
              "  <thead>\n",
              "    <tr style=\"text-align: right;\">\n",
              "      <th></th>\n",
              "      <th>id</th>\n",
              "      <th>gender</th>\n",
              "      <th>age</th>\n",
              "      <th>hypertension</th>\n",
              "      <th>heart_disease</th>\n",
              "      <th>ever_married</th>\n",
              "      <th>work_type</th>\n",
              "      <th>Residence_type</th>\n",
              "      <th>avg_glucose_level</th>\n",
              "      <th>bmi</th>\n",
              "      <th>smoking_status</th>\n",
              "      <th>stroke</th>\n",
              "    </tr>\n",
              "  </thead>\n",
              "  <tbody>\n",
              "    <tr>\n",
              "      <th>0</th>\n",
              "      <td>9046</td>\n",
              "      <td>Male</td>\n",
              "      <td>67.0</td>\n",
              "      <td>0</td>\n",
              "      <td>1</td>\n",
              "      <td>Yes</td>\n",
              "      <td>Private</td>\n",
              "      <td>Urban</td>\n",
              "      <td>228.69</td>\n",
              "      <td>36.6</td>\n",
              "      <td>formerly smoked</td>\n",
              "      <td>1</td>\n",
              "    </tr>\n",
              "    <tr>\n",
              "      <th>1</th>\n",
              "      <td>51676</td>\n",
              "      <td>Female</td>\n",
              "      <td>61.0</td>\n",
              "      <td>0</td>\n",
              "      <td>0</td>\n",
              "      <td>Yes</td>\n",
              "      <td>Self-employed</td>\n",
              "      <td>Rural</td>\n",
              "      <td>202.21</td>\n",
              "      <td>NaN</td>\n",
              "      <td>never smoked</td>\n",
              "      <td>1</td>\n",
              "    </tr>\n",
              "    <tr>\n",
              "      <th>2</th>\n",
              "      <td>31112</td>\n",
              "      <td>Male</td>\n",
              "      <td>80.0</td>\n",
              "      <td>0</td>\n",
              "      <td>1</td>\n",
              "      <td>Yes</td>\n",
              "      <td>Private</td>\n",
              "      <td>Rural</td>\n",
              "      <td>105.92</td>\n",
              "      <td>32.5</td>\n",
              "      <td>never smoked</td>\n",
              "      <td>1</td>\n",
              "    </tr>\n",
              "    <tr>\n",
              "      <th>3</th>\n",
              "      <td>60182</td>\n",
              "      <td>Female</td>\n",
              "      <td>49.0</td>\n",
              "      <td>0</td>\n",
              "      <td>0</td>\n",
              "      <td>Yes</td>\n",
              "      <td>Private</td>\n",
              "      <td>Urban</td>\n",
              "      <td>171.23</td>\n",
              "      <td>34.4</td>\n",
              "      <td>smokes</td>\n",
              "      <td>1</td>\n",
              "    </tr>\n",
              "    <tr>\n",
              "      <th>4</th>\n",
              "      <td>1665</td>\n",
              "      <td>Female</td>\n",
              "      <td>79.0</td>\n",
              "      <td>1</td>\n",
              "      <td>0</td>\n",
              "      <td>Yes</td>\n",
              "      <td>Self-employed</td>\n",
              "      <td>Rural</td>\n",
              "      <td>174.12</td>\n",
              "      <td>24.0</td>\n",
              "      <td>never smoked</td>\n",
              "      <td>1</td>\n",
              "    </tr>\n",
              "  </tbody>\n",
              "</table>\n",
              "</div>\n",
              "    <div class=\"colab-df-buttons\">\n",
              "\n",
              "  <div class=\"colab-df-container\">\n",
              "    <button class=\"colab-df-convert\" onclick=\"convertToInteractive('df-0758c269-8508-469d-8c6f-0b370bb23898')\"\n",
              "            title=\"Convert this dataframe to an interactive table.\"\n",
              "            style=\"display:none;\">\n",
              "\n",
              "  <svg xmlns=\"http://www.w3.org/2000/svg\" height=\"24px\" viewBox=\"0 -960 960 960\">\n",
              "    <path d=\"M120-120v-720h720v720H120Zm60-500h600v-160H180v160Zm220 220h160v-160H400v160Zm0 220h160v-160H400v160ZM180-400h160v-160H180v160Zm440 0h160v-160H620v160ZM180-180h160v-160H180v160Zm440 0h160v-160H620v160Z\"/>\n",
              "  </svg>\n",
              "    </button>\n",
              "\n",
              "  <style>\n",
              "    .colab-df-container {\n",
              "      display:flex;\n",
              "      gap: 12px;\n",
              "    }\n",
              "\n",
              "    .colab-df-convert {\n",
              "      background-color: #E8F0FE;\n",
              "      border: none;\n",
              "      border-radius: 50%;\n",
              "      cursor: pointer;\n",
              "      display: none;\n",
              "      fill: #1967D2;\n",
              "      height: 32px;\n",
              "      padding: 0 0 0 0;\n",
              "      width: 32px;\n",
              "    }\n",
              "\n",
              "    .colab-df-convert:hover {\n",
              "      background-color: #E2EBFA;\n",
              "      box-shadow: 0px 1px 2px rgba(60, 64, 67, 0.3), 0px 1px 3px 1px rgba(60, 64, 67, 0.15);\n",
              "      fill: #174EA6;\n",
              "    }\n",
              "\n",
              "    .colab-df-buttons div {\n",
              "      margin-bottom: 4px;\n",
              "    }\n",
              "\n",
              "    [theme=dark] .colab-df-convert {\n",
              "      background-color: #3B4455;\n",
              "      fill: #D2E3FC;\n",
              "    }\n",
              "\n",
              "    [theme=dark] .colab-df-convert:hover {\n",
              "      background-color: #434B5C;\n",
              "      box-shadow: 0px 1px 3px 1px rgba(0, 0, 0, 0.15);\n",
              "      filter: drop-shadow(0px 1px 2px rgba(0, 0, 0, 0.3));\n",
              "      fill: #FFFFFF;\n",
              "    }\n",
              "  </style>\n",
              "\n",
              "    <script>\n",
              "      const buttonEl =\n",
              "        document.querySelector('#df-0758c269-8508-469d-8c6f-0b370bb23898 button.colab-df-convert');\n",
              "      buttonEl.style.display =\n",
              "        google.colab.kernel.accessAllowed ? 'block' : 'none';\n",
              "\n",
              "      async function convertToInteractive(key) {\n",
              "        const element = document.querySelector('#df-0758c269-8508-469d-8c6f-0b370bb23898');\n",
              "        const dataTable =\n",
              "          await google.colab.kernel.invokeFunction('convertToInteractive',\n",
              "                                                    [key], {});\n",
              "        if (!dataTable) return;\n",
              "\n",
              "        const docLinkHtml = 'Like what you see? Visit the ' +\n",
              "          '<a target=\"_blank\" href=https://colab.research.google.com/notebooks/data_table.ipynb>data table notebook</a>'\n",
              "          + ' to learn more about interactive tables.';\n",
              "        element.innerHTML = '';\n",
              "        dataTable['output_type'] = 'display_data';\n",
              "        await google.colab.output.renderOutput(dataTable, element);\n",
              "        const docLink = document.createElement('div');\n",
              "        docLink.innerHTML = docLinkHtml;\n",
              "        element.appendChild(docLink);\n",
              "      }\n",
              "    </script>\n",
              "  </div>\n",
              "\n",
              "\n",
              "<div id=\"df-e7509e62-1977-43d1-b156-7eb035326dc3\">\n",
              "  <button class=\"colab-df-quickchart\" onclick=\"quickchart('df-e7509e62-1977-43d1-b156-7eb035326dc3')\"\n",
              "            title=\"Suggest charts\"\n",
              "            style=\"display:none;\">\n",
              "\n",
              "<svg xmlns=\"http://www.w3.org/2000/svg\" height=\"24px\"viewBox=\"0 0 24 24\"\n",
              "     width=\"24px\">\n",
              "    <g>\n",
              "        <path d=\"M19 3H5c-1.1 0-2 .9-2 2v14c0 1.1.9 2 2 2h14c1.1 0 2-.9 2-2V5c0-1.1-.9-2-2-2zM9 17H7v-7h2v7zm4 0h-2V7h2v10zm4 0h-2v-4h2v4z\"/>\n",
              "    </g>\n",
              "</svg>\n",
              "  </button>\n",
              "\n",
              "<style>\n",
              "  .colab-df-quickchart {\n",
              "      --bg-color: #E8F0FE;\n",
              "      --fill-color: #1967D2;\n",
              "      --hover-bg-color: #E2EBFA;\n",
              "      --hover-fill-color: #174EA6;\n",
              "      --disabled-fill-color: #AAA;\n",
              "      --disabled-bg-color: #DDD;\n",
              "  }\n",
              "\n",
              "  [theme=dark] .colab-df-quickchart {\n",
              "      --bg-color: #3B4455;\n",
              "      --fill-color: #D2E3FC;\n",
              "      --hover-bg-color: #434B5C;\n",
              "      --hover-fill-color: #FFFFFF;\n",
              "      --disabled-bg-color: #3B4455;\n",
              "      --disabled-fill-color: #666;\n",
              "  }\n",
              "\n",
              "  .colab-df-quickchart {\n",
              "    background-color: var(--bg-color);\n",
              "    border: none;\n",
              "    border-radius: 50%;\n",
              "    cursor: pointer;\n",
              "    display: none;\n",
              "    fill: var(--fill-color);\n",
              "    height: 32px;\n",
              "    padding: 0;\n",
              "    width: 32px;\n",
              "  }\n",
              "\n",
              "  .colab-df-quickchart:hover {\n",
              "    background-color: var(--hover-bg-color);\n",
              "    box-shadow: 0 1px 2px rgba(60, 64, 67, 0.3), 0 1px 3px 1px rgba(60, 64, 67, 0.15);\n",
              "    fill: var(--button-hover-fill-color);\n",
              "  }\n",
              "\n",
              "  .colab-df-quickchart-complete:disabled,\n",
              "  .colab-df-quickchart-complete:disabled:hover {\n",
              "    background-color: var(--disabled-bg-color);\n",
              "    fill: var(--disabled-fill-color);\n",
              "    box-shadow: none;\n",
              "  }\n",
              "\n",
              "  .colab-df-spinner {\n",
              "    border: 2px solid var(--fill-color);\n",
              "    border-color: transparent;\n",
              "    border-bottom-color: var(--fill-color);\n",
              "    animation:\n",
              "      spin 1s steps(1) infinite;\n",
              "  }\n",
              "\n",
              "  @keyframes spin {\n",
              "    0% {\n",
              "      border-color: transparent;\n",
              "      border-bottom-color: var(--fill-color);\n",
              "      border-left-color: var(--fill-color);\n",
              "    }\n",
              "    20% {\n",
              "      border-color: transparent;\n",
              "      border-left-color: var(--fill-color);\n",
              "      border-top-color: var(--fill-color);\n",
              "    }\n",
              "    30% {\n",
              "      border-color: transparent;\n",
              "      border-left-color: var(--fill-color);\n",
              "      border-top-color: var(--fill-color);\n",
              "      border-right-color: var(--fill-color);\n",
              "    }\n",
              "    40% {\n",
              "      border-color: transparent;\n",
              "      border-right-color: var(--fill-color);\n",
              "      border-top-color: var(--fill-color);\n",
              "    }\n",
              "    60% {\n",
              "      border-color: transparent;\n",
              "      border-right-color: var(--fill-color);\n",
              "    }\n",
              "    80% {\n",
              "      border-color: transparent;\n",
              "      border-right-color: var(--fill-color);\n",
              "      border-bottom-color: var(--fill-color);\n",
              "    }\n",
              "    90% {\n",
              "      border-color: transparent;\n",
              "      border-bottom-color: var(--fill-color);\n",
              "    }\n",
              "  }\n",
              "</style>\n",
              "\n",
              "  <script>\n",
              "    async function quickchart(key) {\n",
              "      const quickchartButtonEl =\n",
              "        document.querySelector('#' + key + ' button');\n",
              "      quickchartButtonEl.disabled = true;  // To prevent multiple clicks.\n",
              "      quickchartButtonEl.classList.add('colab-df-spinner');\n",
              "      try {\n",
              "        const charts = await google.colab.kernel.invokeFunction(\n",
              "            'suggestCharts', [key], {});\n",
              "      } catch (error) {\n",
              "        console.error('Error during call to suggestCharts:', error);\n",
              "      }\n",
              "      quickchartButtonEl.classList.remove('colab-df-spinner');\n",
              "      quickchartButtonEl.classList.add('colab-df-quickchart-complete');\n",
              "    }\n",
              "    (() => {\n",
              "      let quickchartButtonEl =\n",
              "        document.querySelector('#df-e7509e62-1977-43d1-b156-7eb035326dc3 button');\n",
              "      quickchartButtonEl.style.display =\n",
              "        google.colab.kernel.accessAllowed ? 'block' : 'none';\n",
              "    })();\n",
              "  </script>\n",
              "</div>\n",
              "\n",
              "    </div>\n",
              "  </div>\n"
            ],
            "application/vnd.google.colaboratory.intrinsic+json": {
              "type": "dataframe",
              "variable_name": "df",
              "summary": "{\n  \"name\": \"df\",\n  \"rows\": 5110,\n  \"fields\": [\n    {\n      \"column\": \"id\",\n      \"properties\": {\n        \"dtype\": \"number\",\n        \"std\": 21161,\n        \"min\": 67,\n        \"max\": 72940,\n        \"num_unique_values\": 5110,\n        \"samples\": [\n          40041,\n          55244,\n          70992\n        ],\n        \"semantic_type\": \"\",\n        \"description\": \"\"\n      }\n    },\n    {\n      \"column\": \"gender\",\n      \"properties\": {\n        \"dtype\": \"category\",\n        \"num_unique_values\": 3,\n        \"samples\": [\n          \"Male\",\n          \"Female\",\n          \"Other\"\n        ],\n        \"semantic_type\": \"\",\n        \"description\": \"\"\n      }\n    },\n    {\n      \"column\": \"age\",\n      \"properties\": {\n        \"dtype\": \"number\",\n        \"std\": 22.61264672311349,\n        \"min\": 0.08,\n        \"max\": 82.0,\n        \"num_unique_values\": 104,\n        \"samples\": [\n          45.0,\n          24.0,\n          33.0\n        ],\n        \"semantic_type\": \"\",\n        \"description\": \"\"\n      }\n    },\n    {\n      \"column\": \"hypertension\",\n      \"properties\": {\n        \"dtype\": \"number\",\n        \"std\": 0,\n        \"min\": 0,\n        \"max\": 1,\n        \"num_unique_values\": 2,\n        \"samples\": [\n          1,\n          0\n        ],\n        \"semantic_type\": \"\",\n        \"description\": \"\"\n      }\n    },\n    {\n      \"column\": \"heart_disease\",\n      \"properties\": {\n        \"dtype\": \"number\",\n        \"std\": 0,\n        \"min\": 0,\n        \"max\": 1,\n        \"num_unique_values\": 2,\n        \"samples\": [\n          0,\n          1\n        ],\n        \"semantic_type\": \"\",\n        \"description\": \"\"\n      }\n    },\n    {\n      \"column\": \"ever_married\",\n      \"properties\": {\n        \"dtype\": \"category\",\n        \"num_unique_values\": 2,\n        \"samples\": [\n          \"No\",\n          \"Yes\"\n        ],\n        \"semantic_type\": \"\",\n        \"description\": \"\"\n      }\n    },\n    {\n      \"column\": \"work_type\",\n      \"properties\": {\n        \"dtype\": \"category\",\n        \"num_unique_values\": 5,\n        \"samples\": [\n          \"Self-employed\",\n          \"Never_worked\"\n        ],\n        \"semantic_type\": \"\",\n        \"description\": \"\"\n      }\n    },\n    {\n      \"column\": \"Residence_type\",\n      \"properties\": {\n        \"dtype\": \"category\",\n        \"num_unique_values\": 2,\n        \"samples\": [\n          \"Rural\",\n          \"Urban\"\n        ],\n        \"semantic_type\": \"\",\n        \"description\": \"\"\n      }\n    },\n    {\n      \"column\": \"avg_glucose_level\",\n      \"properties\": {\n        \"dtype\": \"number\",\n        \"std\": 45.28356015058198,\n        \"min\": 55.12,\n        \"max\": 271.74,\n        \"num_unique_values\": 3979,\n        \"samples\": [\n          178.29,\n          156.69\n        ],\n        \"semantic_type\": \"\",\n        \"description\": \"\"\n      }\n    },\n    {\n      \"column\": \"bmi\",\n      \"properties\": {\n        \"dtype\": \"number\",\n        \"std\": 7.854066729680164,\n        \"min\": 10.3,\n        \"max\": 97.6,\n        \"num_unique_values\": 418,\n        \"samples\": [\n          49.5,\n          18.5\n        ],\n        \"semantic_type\": \"\",\n        \"description\": \"\"\n      }\n    },\n    {\n      \"column\": \"smoking_status\",\n      \"properties\": {\n        \"dtype\": \"category\",\n        \"num_unique_values\": 4,\n        \"samples\": [\n          \"never smoked\",\n          \"Unknown\"\n        ],\n        \"semantic_type\": \"\",\n        \"description\": \"\"\n      }\n    },\n    {\n      \"column\": \"stroke\",\n      \"properties\": {\n        \"dtype\": \"number\",\n        \"std\": 0,\n        \"min\": 0,\n        \"max\": 1,\n        \"num_unique_values\": 2,\n        \"samples\": [\n          0,\n          1\n        ],\n        \"semantic_type\": \"\",\n        \"description\": \"\"\n      }\n    }\n  ]\n}"
            }
          },
          "metadata": {},
          "execution_count": 3
        }
      ]
    },
    {
      "cell_type": "markdown",
      "source": [
        "Plotting bar graphs representing a possible correlation between different features and target"
      ],
      "metadata": {
        "id": "xc-gIdvqi4bN"
      }
    },
    {
      "cell_type": "code",
      "source": [
        "_df = df.query('stroke==1').copy()"
      ],
      "metadata": {
        "id": "SDbM-5_Yjict"
      },
      "execution_count": 8,
      "outputs": []
    },
    {
      "cell_type": "code",
      "source": [
        "_df.groupby('work_type').size().plot(kind='barh', color=sns.palettes.mpl_palette('Dark2'))\n",
        "plt.title('Work type affecting Stroke')\n",
        "plt.xlabel('Number of Stroke patients')\n",
        "plt.ylabel('Work Type')\n",
        "plt.gca().spines[['top', 'right',]].set_visible(False)"
      ],
      "metadata": {
        "colab": {
          "base_uri": "https://localhost:8080/",
          "height": 472
        },
        "id": "n5hkXGZDjew8",
        "outputId": "10b558a4-bf73-41e4-a9c5-7f152f74cfce"
      },
      "execution_count": 9,
      "outputs": [
        {
          "output_type": "display_data",
          "data": {
            "text/plain": [
              "<Figure size 640x480 with 1 Axes>"
            ],
            "image/png": "[encoded data removed]"
          },
          "metadata": {}
        }
      ]
    },
    {
      "cell_type": "code",
      "source": [
        "_df['hypertension'].replace({0:'No', 1:'Yes'}, inplace=True)\n",
        "_df.groupby('hypertension').size().plot(kind='barh', color=sns.palettes.mpl_palette('Dark2'))\n",
        "plt.title('Hypertension affecting Stroke')\n",
        "plt.xlabel('Number of Stroke patients')\n",
        "plt.ylabel('Hypertension?')\n",
        "plt.gca().spines[['top', 'right',]].set_visible(False)"
      ],
      "metadata": {
        "colab": {
          "base_uri": "https://localhost:8080/",
          "height": 472
        },
        "id": "eq0-JB4MFAF2",
        "outputId": "36fdc557-47a6-4fab-e6c4-2d7287297998"
      },
      "execution_count": 10,
      "outputs": [
        {
          "output_type": "display_data",
          "data": {
            "text/plain": [
              "<Figure size 640x480 with 1 Axes>"
            ],
            "image/png": "[encoded data removed]"
          },
          "metadata": {}
        }
      ]
    },
    {
      "cell_type": "markdown",
      "source": [
        "Imputing the unkown values in BMI by inserting the mean"
      ],
      "metadata": {
        "id": "54yphaoPjxTN"
      }
    },
    {
      "cell_type": "code",
      "source": [
        "df['bmi'].fillna(df['bmi'].mean(), inplace=True)"
      ],
      "metadata": {
        "id": "RvD2rHFej67O"
      },
      "execution_count": 11,
      "outputs": []
    },
    {
      "cell_type": "code",
      "source": [
        "df.query('stroke==1')['bmi'].plot(kind='hist', bins=10, color=sns.color_palette(\"Set2\"))\n",
        "plt.xlabel('BMI')\n",
        "plt.ylabel('Number of Stroke patients')"
      ],
      "metadata": {
        "colab": {
          "base_uri": "https://localhost:8080/",
          "height": 467
        },
        "id": "S3K6xmTCFD0T",
        "outputId": "5efbe51f-360d-4274-c0c6-b18b2b9931df"
      },
      "execution_count": null,
      "outputs": [
        {
          "output_type": "execute_result",
          "data": {
            "text/plain": [
              "Text(0, 0.5, 'Number of Stroke patients')"
            ]
          },
          "metadata": {},
          "execution_count": 68
        },
        {
          "output_type": "display_data",
          "data": {
            "text/plain": [
              "<Figure size 640x480 with 1 Axes>"
            ],
            "image/png": "[encoded data removed]"
          },
          "metadata": {}
        }
      ]
    },
    {
      "cell_type": "markdown",
      "source": [
        "Converting feature values from string into numerical"
      ],
      "metadata": {
        "id": "t2sV-5nxkFKM"
      }
    },
    {
      "cell_type": "code",
      "source": [
        "df['gender'].replace({'Male': 0, 'Female': 1, 'Other':3}, inplace=True)\n",
        "df['work_type'].replace({'Private': 0, 'Self-employed': 1, 'Govt_job': 2, 'children': 3, 'Never_worked': 4}, inplace=True)\n",
        "df['Residence_type'].replace({'Urban': 0, 'Rural': 1}, inplace=True)\n",
        "df['smoking_status'].replace({'formerly smoked': 0, 'never smoked': 1, 'smokes': 2, 'Unknown': 3}, inplace=True)\n",
        "df['ever_married'].replace({'No':0, 'Yes':1}, inplace=True)"
      ],
      "metadata": {
        "id": "yUe9qC2IFcAm"
      },
      "execution_count": null,
      "outputs": []
    },
    {
      "cell_type": "markdown",
      "source": [
        "Correlation matrix"
      ],
      "metadata": {
        "id": "oJBRe82_7gKs"
      }
    },
    {
      "cell_type": "code",
      "source": [
        "corrmatrix = df.corr()\n",
        "corrmatrix.style.background_gradient(cmap='coolwarm')"
      ],
      "metadata": {
        "colab": {
          "base_uri": "https://localhost:8080/",
          "height": 425
        },
        "id": "ZIqVbbPl61bK",
        "outputId": "333af25f-1805-47b7-93eb-b2dc18878c3c"
      },
      "execution_count": null,
      "outputs": [
        {
          "output_type": "execute_result",
          "data": {
            "text/plain": [
              "<pandas.io.formats.style.Styler at 0x79a8aa7d79d0>"
            ],
            "text/html": [
              "<style type=\"text/css\">\n",
              "#T_e1b9f_row0_col0, #T_e1b9f_row1_col1, #T_e1b9f_row2_col2, #T_e1b9f_row3_col3, #T_e1b9f_row4_col4, #T_e1b9f_row5_col5, #T_e1b9f_row6_col6, #T_e1b9f_row7_col7, #T_e1b9f_row8_col8, #T_e1b9f_row9_col9, #T_e1b9f_row10_col10, #T_e1b9f_row11_col11 {\n",
              "  background-color: #b40426;\n",
              "  color: #f1f1f1;\n",
              "}\n",
              "#T_e1b9f_row0_col1, #T_e1b9f_row0_col4, #T_e1b9f_row7_col1, #T_e1b9f_row7_col4 {\n",
              "  background-color: #516ddb;\n",
              "  color: #f1f1f1;\n",
              "}\n",
              "#T_e1b9f_row0_col2, #T_e1b9f_row1_col5 {\n",
              "  background-color: #9dbdff;\n",
              "  color: #000000;\n",
              "}\n",
              "#T_e1b9f_row0_col3 {\n",
              "  background-color: #5f7fe8;\n",
              "  color: #f1f1f1;\n",
              "}\n",
              "#T_e1b9f_row0_col5, #T_e1b9f_row4_col9, #T_e1b9f_row7_col2, #T_e1b9f_row7_col6, #T_e1b9f_row11_col9 {\n",
              "  background-color: #98b9ff;\n",
              "  color: #000000;\n",
              "}\n",
              "#T_e1b9f_row0_col6 {\n",
              "  background-color: #97b8ff;\n",
              "  color: #000000;\n",
              "}\n",
              "#T_e1b9f_row0_col7, #T_e1b9f_row1_col0, #T_e1b9f_row4_col0, #T_e1b9f_row6_col1, #T_e1b9f_row8_col0, #T_e1b9f_row10_col4 {\n",
              "  background-color: #3f53c6;\n",
              "  color: #f1f1f1;\n",
              "}\n",
              "#T_e1b9f_row0_col8, #T_e1b9f_row7_col8 {\n",
              "  background-color: #5673e0;\n",
              "  color: #f1f1f1;\n",
              "}\n",
              "#T_e1b9f_row0_col9, #T_e1b9f_row7_col9, #T_e1b9f_row9_col3 {\n",
              "  background-color: #8fb1fe;\n",
              "  color: #000000;\n",
              "}\n",
              "#T_e1b9f_row0_col10, #T_e1b9f_row5_col3 {\n",
              "  background-color: #90b2fe;\n",
              "  color: #000000;\n",
              "}\n",
              "#T_e1b9f_row0_col11 {\n",
              "  background-color: #4f69d9;\n",
              "  color: #f1f1f1;\n",
              "}\n",
              "#T_e1b9f_row1_col2 {\n",
              "  background-color: #a2c1ff;\n",
              "  color: #000000;\n",
              "}\n",
              "#T_e1b9f_row1_col3 {\n",
              "  background-color: #5875e1;\n",
              "  color: #f1f1f1;\n",
              "}\n",
              "#T_e1b9f_row1_col4, #T_e1b9f_row2_col6, #T_e1b9f_row2_col7, #T_e1b9f_row2_col10, #T_e1b9f_row4_col1, #T_e1b9f_row6_col0, #T_e1b9f_row6_col2, #T_e1b9f_row6_col5, #T_e1b9f_row6_col7, #T_e1b9f_row6_col9, #T_e1b9f_row10_col0, #T_e1b9f_row10_col3, #T_e1b9f_row10_col8, #T_e1b9f_row10_col11, #T_e1b9f_row11_col7 {\n",
              "  background-color: #3b4cc0;\n",
              "  color: #f1f1f1;\n",
              "}\n",
              "#T_e1b9f_row1_col6, #T_e1b9f_row1_col10, #T_e1b9f_row8_col6, #T_e1b9f_row9_col8 {\n",
              "  background-color: #8badfd;\n",
              "  color: #000000;\n",
              "}\n",
              "#T_e1b9f_row1_col7, #T_e1b9f_row5_col7, #T_e1b9f_row10_col7 {\n",
              "  background-color: #3d50c3;\n",
              "  color: #f1f1f1;\n",
              "}\n",
              "#T_e1b9f_row1_col8, #T_e1b9f_row10_col1 {\n",
              "  background-color: #465ecf;\n",
              "  color: #f1f1f1;\n",
              "}\n",
              "#T_e1b9f_row1_col9, #T_e1b9f_row7_col10 {\n",
              "  background-color: #94b6ff;\n",
              "  color: #000000;\n",
              "}\n",
              "#T_e1b9f_row1_col11, #T_e1b9f_row5_col10, #T_e1b9f_row10_col5 {\n",
              "  background-color: #4a63d3;\n",
              "  color: #f1f1f1;\n",
              "}\n",
              "#T_e1b9f_row2_col0, #T_e1b9f_row3_col0, #T_e1b9f_row3_col7, #T_e1b9f_row7_col0, #T_e1b9f_row8_col7, #T_e1b9f_row9_col0 {\n",
              "  background-color: #4055c8;\n",
              "  color: #f1f1f1;\n",
              "}\n",
              "#T_e1b9f_row2_col1, #T_e1b9f_row5_col1, #T_e1b9f_row9_col1 {\n",
              "  background-color: #5a78e4;\n",
              "  color: #f1f1f1;\n",
              "}\n",
              "#T_e1b9f_row2_col3, #T_e1b9f_row4_col5 {\n",
              "  background-color: #b2ccfb;\n",
              "  color: #000000;\n",
              "}\n",
              "#T_e1b9f_row2_col4 {\n",
              "  background-color: #a6c4fe;\n",
              "  color: #000000;\n",
              "}\n",
              "#T_e1b9f_row2_col5 {\n",
              "  background-color: #f29274;\n",
              "  color: #f1f1f1;\n",
              "}\n",
              "#T_e1b9f_row2_col8 {\n",
              "  background-color: #a1c0ff;\n",
              "  color: #000000;\n",
              "}\n",
              "#T_e1b9f_row2_col9, #T_e1b9f_row6_col10 {\n",
              "  background-color: #dcdddd;\n",
              "  color: #000000;\n",
              "}\n",
              "#T_e1b9f_row2_col11 {\n",
              "  background-color: #9bbcff;\n",
              "  color: #000000;\n",
              "}\n",
              "#T_e1b9f_row3_col1 {\n",
              "  background-color: #4c66d6;\n",
              "  color: #f1f1f1;\n",
              "}\n",
              "#T_e1b9f_row3_col2 {\n",
              "  background-color: #d9dce1;\n",
              "  color: #000000;\n",
              "}\n",
              "#T_e1b9f_row3_col4, #T_e1b9f_row3_col10 {\n",
              "  background-color: #7396f5;\n",
              "  color: #f1f1f1;\n",
              "}\n",
              "#T_e1b9f_row3_col5 {\n",
              "  background-color: #bed2f6;\n",
              "  color: #000000;\n",
              "}\n",
              "#T_e1b9f_row3_col6 {\n",
              "  background-color: #89acfd;\n",
              "  color: #000000;\n",
              "}\n",
              "#T_e1b9f_row3_col8 {\n",
              "  background-color: #8caffe;\n",
              "  color: #000000;\n",
              "}\n",
              "#T_e1b9f_row3_col9 {\n",
              "  background-color: #b7cff9;\n",
              "  color: #000000;\n",
              "}\n",
              "#T_e1b9f_row3_col11 {\n",
              "  background-color: #7597f6;\n",
              "  color: #f1f1f1;\n",
              "}\n",
              "#T_e1b9f_row4_col2 {\n",
              "  background-color: #d7dce3;\n",
              "  color: #000000;\n",
              "}\n",
              "#T_e1b9f_row4_col3, #T_e1b9f_row11_col8 {\n",
              "  background-color: #7ea1fa;\n",
              "  color: #f1f1f1;\n",
              "}\n",
              "#T_e1b9f_row4_col6, #T_e1b9f_row11_col6 {\n",
              "  background-color: #8db0fe;\n",
              "  color: #000000;\n",
              "}\n",
              "#T_e1b9f_row4_col7, #T_e1b9f_row9_col7 {\n",
              "  background-color: #3e51c5;\n",
              "  color: #f1f1f1;\n",
              "}\n",
              "#T_e1b9f_row4_col8 {\n",
              "  background-color: #88abfd;\n",
              "  color: #000000;\n",
              "}\n",
              "#T_e1b9f_row4_col10, #T_e1b9f_row11_col10 {\n",
              "  background-color: #84a7fc;\n",
              "  color: #f1f1f1;\n",
              "}\n",
              "#T_e1b9f_row4_col11 {\n",
              "  background-color: #779af7;\n",
              "  color: #f1f1f1;\n",
              "}\n",
              "#T_e1b9f_row5_col0 {\n",
              "  background-color: #445acc;\n",
              "  color: #f1f1f1;\n",
              "}\n",
              "#T_e1b9f_row5_col2 {\n",
              "  background-color: #f29072;\n",
              "  color: #f1f1f1;\n",
              "}\n",
              "#T_e1b9f_row5_col4, #T_e1b9f_row8_col11 {\n",
              "  background-color: #7699f6;\n",
              "  color: #f1f1f1;\n",
              "}\n",
              "#T_e1b9f_row5_col6, #T_e1b9f_row6_col4, #T_e1b9f_row6_col8, #T_e1b9f_row10_col2, #T_e1b9f_row11_col0 {\n",
              "  background-color: #4257c9;\n",
              "  color: #f1f1f1;\n",
              "}\n",
              "#T_e1b9f_row5_col8, #T_e1b9f_row8_col4, #T_e1b9f_row11_col3 {\n",
              "  background-color: #85a8fc;\n",
              "  color: #f1f1f1;\n",
              "}\n",
              "#T_e1b9f_row5_col9 {\n",
              "  background-color: #dedcdb;\n",
              "  color: #000000;\n",
              "}\n",
              "#T_e1b9f_row5_col11 {\n",
              "  background-color: #6e90f2;\n",
              "  color: #f1f1f1;\n",
              "}\n",
              "#T_e1b9f_row6_col3, #T_e1b9f_row7_col11, #T_e1b9f_row9_col6 {\n",
              "  background-color: #4961d2;\n",
              "  color: #f1f1f1;\n",
              "}\n",
              "#T_e1b9f_row6_col11 {\n",
              "  background-color: #3c4ec2;\n",
              "  color: #f1f1f1;\n",
              "}\n",
              "#T_e1b9f_row7_col3 {\n",
              "  background-color: #6180e9;\n",
              "  color: #f1f1f1;\n",
              "}\n",
              "#T_e1b9f_row7_col5, #T_e1b9f_row8_col3 {\n",
              "  background-color: #93b5fe;\n",
              "  color: #000000;\n",
              "}\n",
              "#T_e1b9f_row8_col1 {\n",
              "  background-color: #4358cb;\n",
              "  color: #f1f1f1;\n",
              "}\n",
              "#T_e1b9f_row8_col2 {\n",
              "  background-color: #d3dbe7;\n",
              "  color: #000000;\n",
              "}\n",
              "#T_e1b9f_row8_col5 {\n",
              "  background-color: #bbd1f8;\n",
              "  color: #000000;\n",
              "}\n",
              "#T_e1b9f_row8_col9 {\n",
              "  background-color: #bad0f8;\n",
              "  color: #000000;\n",
              "}\n",
              "#T_e1b9f_row8_col10 {\n",
              "  background-color: #7b9ff9;\n",
              "  color: #f1f1f1;\n",
              "}\n",
              "#T_e1b9f_row9_col2 {\n",
              "  background-color: #e2dad5;\n",
              "  color: #000000;\n",
              "}\n",
              "#T_e1b9f_row9_col4 {\n",
              "  background-color: #5e7de7;\n",
              "  color: #f1f1f1;\n",
              "}\n",
              "#T_e1b9f_row9_col5 {\n",
              "  background-color: #e1dad6;\n",
              "  color: #000000;\n",
              "}\n",
              "#T_e1b9f_row9_col10 {\n",
              "  background-color: #5b7ae5;\n",
              "  color: #f1f1f1;\n",
              "}\n",
              "#T_e1b9f_row9_col11 {\n",
              "  background-color: #5977e3;\n",
              "  color: #f1f1f1;\n",
              "}\n",
              "#T_e1b9f_row10_col6 {\n",
              "  background-color: #dfdbd9;\n",
              "  color: #000000;\n",
              "}\n",
              "#T_e1b9f_row10_col9 {\n",
              "  background-color: #5470de;\n",
              "  color: #f1f1f1;\n",
              "}\n",
              "#T_e1b9f_row11_col1 {\n",
              "  background-color: #506bda;\n",
              "  color: #f1f1f1;\n",
              "}\n",
              "#T_e1b9f_row11_col2 {\n",
              "  background-color: #d4dbe6;\n",
              "  color: #000000;\n",
              "}\n",
              "#T_e1b9f_row11_col4 {\n",
              "  background-color: #7da0f9;\n",
              "  color: #f1f1f1;\n",
              "}\n",
              "#T_e1b9f_row11_col5 {\n",
              "  background-color: #b1cbfc;\n",
              "  color: #000000;\n",
              "}\n",
              "</style>\n",
              "<table id=\"T_e1b9f\" class=\"dataframe\">\n",
              "  <thead>\n",
              "    <tr>\n",
              "      <th class=\"blank level0\" >&nbsp;</th>\n",
              "      <th id=\"T_e1b9f_level0_col0\" class=\"col_heading level0 col0\" >id</th>\n",
              "      <th id=\"T_e1b9f_level0_col1\" class=\"col_heading level0 col1\" >gender</th>\n",
              "      <th id=\"T_e1b9f_level0_col2\" class=\"col_heading level0 col2\" >age</th>\n",
              "      <th id=\"T_e1b9f_level0_col3\" class=\"col_heading level0 col3\" >hypertension</th>\n",
              "      <th id=\"T_e1b9f_level0_col4\" class=\"col_heading level0 col4\" >heart_disease</th>\n",
              "      <th id=\"T_e1b9f_level0_col5\" class=\"col_heading level0 col5\" >ever_married</th>\n",
              "      <th id=\"T_e1b9f_level0_col6\" class=\"col_heading level0 col6\" >work_type</th>\n",
              "      <th id=\"T_e1b9f_level0_col7\" class=\"col_heading level0 col7\" >Residence_type</th>\n",
              "      <th id=\"T_e1b9f_level0_col8\" class=\"col_heading level0 col8\" >avg_glucose_level</th>\n",
              "      <th id=\"T_e1b9f_level0_col9\" class=\"col_heading level0 col9\" >bmi</th>\n",
              "      <th id=\"T_e1b9f_level0_col10\" class=\"col_heading level0 col10\" >smoking_status</th>\n",
              "      <th id=\"T_e1b9f_level0_col11\" class=\"col_heading level0 col11\" >stroke</th>\n",
              "    </tr>\n",
              "  </thead>\n",
              "  <tbody>\n",
              "    <tr>\n",
              "      <th id=\"T_e1b9f_level0_row0\" class=\"row_heading level0 row0\" >id</th>\n",
              "      <td id=\"T_e1b9f_row0_col0\" class=\"data row0 col0\" >1.000000</td>\n",
              "      <td id=\"T_e1b9f_row0_col1\" class=\"data row0 col1\" >-0.001036</td>\n",
              "      <td id=\"T_e1b9f_row0_col2\" class=\"data row0 col2\" >0.003538</td>\n",
              "      <td id=\"T_e1b9f_row0_col3\" class=\"data row0 col3\" >0.003550</td>\n",
              "      <td id=\"T_e1b9f_row0_col4\" class=\"data row0 col4\" >-0.001296</td>\n",
              "      <td id=\"T_e1b9f_row0_col5\" class=\"data row0 col5\" >0.013690</td>\n",
              "      <td id=\"T_e1b9f_row0_col6\" class=\"data row0 col6\" >-0.018030</td>\n",
              "      <td id=\"T_e1b9f_row0_col7\" class=\"data row0 col7\" >0.001403</td>\n",
              "      <td id=\"T_e1b9f_row0_col8\" class=\"data row0 col8\" >0.001092</td>\n",
              "      <td id=\"T_e1b9f_row0_col9\" class=\"data row0 col9\" >0.002999</td>\n",
              "      <td id=\"T_e1b9f_row0_col10\" class=\"data row0 col10\" >-0.018551</td>\n",
              "      <td id=\"T_e1b9f_row0_col11\" class=\"data row0 col11\" >0.006388</td>\n",
              "    </tr>\n",
              "    <tr>\n",
              "      <th id=\"T_e1b9f_level0_row1\" class=\"row_heading level0 row1\" >gender</th>\n",
              "      <td id=\"T_e1b9f_row1_col0\" class=\"data row1 col0\" >-0.001036</td>\n",
              "      <td id=\"T_e1b9f_row1_col1\" class=\"data row1 col1\" >1.000000</td>\n",
              "      <td id=\"T_e1b9f_row1_col2\" class=\"data row1 col2\" >0.026956</td>\n",
              "      <td id=\"T_e1b9f_row1_col3\" class=\"data row1 col3\" >-0.021487</td>\n",
              "      <td id=\"T_e1b9f_row1_col4\" class=\"data row1 col4\" >-0.085712</td>\n",
              "      <td id=\"T_e1b9f_row1_col5\" class=\"data row1 col5\" >0.028773</td>\n",
              "      <td id=\"T_e1b9f_row1_col6\" class=\"data row1 col6\" >-0.066407</td>\n",
              "      <td id=\"T_e1b9f_row1_col7\" class=\"data row1 col7\" >-0.005117</td>\n",
              "      <td id=\"T_e1b9f_row1_col8\" class=\"data row1 col8\" >-0.053804</td>\n",
              "      <td id=\"T_e1b9f_row1_col9\" class=\"data row1 col9\" >0.024737</td>\n",
              "      <td id=\"T_e1b9f_row1_col10\" class=\"data row1 col10\" >-0.040207</td>\n",
              "      <td id=\"T_e1b9f_row1_col11\" class=\"data row1 col11\" >-0.009276</td>\n",
              "    </tr>\n",
              "    <tr>\n",
              "      <th id=\"T_e1b9f_level0_row2\" class=\"row_heading level0 row2\" >age</th>\n",
              "      <td id=\"T_e1b9f_row2_col0\" class=\"data row2 col0\" >0.003538</td>\n",
              "      <td id=\"T_e1b9f_row2_col1\" class=\"data row2 col1\" >0.026956</td>\n",
              "      <td id=\"T_e1b9f_row2_col2\" class=\"data row2 col2\" >1.000000</td>\n",
              "      <td id=\"T_e1b9f_row2_col3\" class=\"data row2 col3\" >0.276398</td>\n",
              "      <td id=\"T_e1b9f_row2_col4\" class=\"data row2 col4\" >0.263796</td>\n",
              "      <td id=\"T_e1b9f_row2_col5\" class=\"data row2 col5\" >0.679125</td>\n",
              "      <td id=\"T_e1b9f_row2_col6\" class=\"data row2 col6\" >-0.413270</td>\n",
              "      <td id=\"T_e1b9f_row2_col7\" class=\"data row2 col7\" >-0.014180</td>\n",
              "      <td id=\"T_e1b9f_row2_col8\" class=\"data row2 col8\" >0.238171</td>\n",
              "      <td id=\"T_e1b9f_row2_col9\" class=\"data row2 col9\" >0.325942</td>\n",
              "      <td id=\"T_e1b9f_row2_col10\" class=\"data row2 col10\" >-0.375845</td>\n",
              "      <td id=\"T_e1b9f_row2_col11\" class=\"data row2 col11\" >0.245257</td>\n",
              "    </tr>\n",
              "    <tr>\n",
              "      <th id=\"T_e1b9f_level0_row3\" class=\"row_heading level0 row3\" >hypertension</th>\n",
              "      <td id=\"T_e1b9f_row3_col0\" class=\"data row3 col0\" >0.003550</td>\n",
              "      <td id=\"T_e1b9f_row3_col1\" class=\"data row3 col1\" >-0.021487</td>\n",
              "      <td id=\"T_e1b9f_row3_col2\" class=\"data row3 col2\" >0.276398</td>\n",
              "      <td id=\"T_e1b9f_row3_col3\" class=\"data row3 col3\" >1.000000</td>\n",
              "      <td id=\"T_e1b9f_row3_col4\" class=\"data row3 col4\" >0.108306</td>\n",
              "      <td id=\"T_e1b9f_row3_col5\" class=\"data row3 col5\" >0.164243</td>\n",
              "      <td id=\"T_e1b9f_row3_col6\" class=\"data row3 col6\" >-0.075097</td>\n",
              "      <td id=\"T_e1b9f_row3_col7\" class=\"data row3 col7\" >0.007913</td>\n",
              "      <td id=\"T_e1b9f_row3_col8\" class=\"data row3 col8\" >0.174474</td>\n",
              "      <td id=\"T_e1b9f_row3_col9\" class=\"data row3 col9\" >0.160189</td>\n",
              "      <td id=\"T_e1b9f_row3_col10\" class=\"data row3 col10\" >-0.129012</td>\n",
              "      <td id=\"T_e1b9f_row3_col11\" class=\"data row3 col11\" >0.127904</td>\n",
              "    </tr>\n",
              "    <tr>\n",
              "      <th id=\"T_e1b9f_level0_row4\" class=\"row_heading level0 row4\" >heart_disease</th>\n",
              "      <td id=\"T_e1b9f_row4_col0\" class=\"data row4 col0\" >-0.001296</td>\n",
              "      <td id=\"T_e1b9f_row4_col1\" class=\"data row4 col1\" >-0.085712</td>\n",
              "      <td id=\"T_e1b9f_row4_col2\" class=\"data row4 col2\" >0.263796</td>\n",
              "      <td id=\"T_e1b9f_row4_col3\" class=\"data row4 col3\" >0.108306</td>\n",
              "      <td id=\"T_e1b9f_row4_col4\" class=\"data row4 col4\" >1.000000</td>\n",
              "      <td id=\"T_e1b9f_row4_col5\" class=\"data row4 col5\" >0.114644</td>\n",
              "      <td id=\"T_e1b9f_row4_col6\" class=\"data row4 col6\" >-0.058263</td>\n",
              "      <td id=\"T_e1b9f_row4_col7\" class=\"data row4 col7\" >-0.003092</td>\n",
              "      <td id=\"T_e1b9f_row4_col8\" class=\"data row4 col8\" >0.161857</td>\n",
              "      <td id=\"T_e1b9f_row4_col9\" class=\"data row4 col9\" >0.038899</td>\n",
              "      <td id=\"T_e1b9f_row4_col10\" class=\"data row4 col10\" >-0.064671</td>\n",
              "      <td id=\"T_e1b9f_row4_col11\" class=\"data row4 col11\" >0.134914</td>\n",
              "    </tr>\n",
              "    <tr>\n",
              "      <th id=\"T_e1b9f_level0_row5\" class=\"row_heading level0 row5\" >ever_married</th>\n",
              "      <td id=\"T_e1b9f_row5_col0\" class=\"data row5 col0\" >0.013690</td>\n",
              "      <td id=\"T_e1b9f_row5_col1\" class=\"data row5 col1\" >0.028773</td>\n",
              "      <td id=\"T_e1b9f_row5_col2\" class=\"data row5 col2\" >0.679125</td>\n",
              "      <td id=\"T_e1b9f_row5_col3\" class=\"data row5 col3\" >0.164243</td>\n",
              "      <td id=\"T_e1b9f_row5_col4\" class=\"data row5 col4\" >0.114644</td>\n",
              "      <td id=\"T_e1b9f_row5_col5\" class=\"data row5 col5\" >1.000000</td>\n",
              "      <td id=\"T_e1b9f_row5_col6\" class=\"data row5 col6\" >-0.375944</td>\n",
              "      <td id=\"T_e1b9f_row5_col7\" class=\"data row5 col7\" >-0.006261</td>\n",
              "      <td id=\"T_e1b9f_row5_col8\" class=\"data row5 col8\" >0.155068</td>\n",
              "      <td id=\"T_e1b9f_row5_col9\" class=\"data row5 col9\" >0.335705</td>\n",
              "      <td id=\"T_e1b9f_row5_col10\" class=\"data row5 col10\" >-0.303694</td>\n",
              "      <td id=\"T_e1b9f_row5_col11\" class=\"data row5 col11\" >0.108340</td>\n",
              "    </tr>\n",
              "    <tr>\n",
              "      <th id=\"T_e1b9f_level0_row6\" class=\"row_heading level0 row6\" >work_type</th>\n",
              "      <td id=\"T_e1b9f_row6_col0\" class=\"data row6 col0\" >-0.018030</td>\n",
              "      <td id=\"T_e1b9f_row6_col1\" class=\"data row6 col1\" >-0.066407</td>\n",
              "      <td id=\"T_e1b9f_row6_col2\" class=\"data row6 col2\" >-0.413270</td>\n",
              "      <td id=\"T_e1b9f_row6_col3\" class=\"data row6 col3\" >-0.075097</td>\n",
              "      <td id=\"T_e1b9f_row6_col4\" class=\"data row6 col4\" >-0.058263</td>\n",
              "      <td id=\"T_e1b9f_row6_col5\" class=\"data row6 col5\" >-0.375944</td>\n",
              "      <td id=\"T_e1b9f_row6_col6\" class=\"data row6 col6\" >1.000000</td>\n",
              "      <td id=\"T_e1b9f_row6_col7\" class=\"data row6 col7\" >-0.014573</td>\n",
              "      <td id=\"T_e1b9f_row6_col8\" class=\"data row6 col8\" >-0.068135</td>\n",
              "      <td id=\"T_e1b9f_row6_col9\" class=\"data row6 col9\" >-0.341973</td>\n",
              "      <td id=\"T_e1b9f_row6_col10\" class=\"data row6 col10\" >0.307774</td>\n",
              "      <td id=\"T_e1b9f_row6_col11\" class=\"data row6 col11\" >-0.058224</td>\n",
              "    </tr>\n",
              "    <tr>\n",
              "      <th id=\"T_e1b9f_level0_row7\" class=\"row_heading level0 row7\" >Residence_type</th>\n",
              "      <td id=\"T_e1b9f_row7_col0\" class=\"data row7 col0\" >0.001403</td>\n",
              "      <td id=\"T_e1b9f_row7_col1\" class=\"data row7 col1\" >-0.005117</td>\n",
              "      <td id=\"T_e1b9f_row7_col2\" class=\"data row7 col2\" >-0.014180</td>\n",
              "      <td id=\"T_e1b9f_row7_col3\" class=\"data row7 col3\" >0.007913</td>\n",
              "      <td id=\"T_e1b9f_row7_col4\" class=\"data row7 col4\" >-0.003092</td>\n",
              "      <td id=\"T_e1b9f_row7_col5\" class=\"data row7 col5\" >-0.006261</td>\n",
              "      <td id=\"T_e1b9f_row7_col6\" class=\"data row7 col6\" >-0.014573</td>\n",
              "      <td id=\"T_e1b9f_row7_col7\" class=\"data row7 col7\" >1.000000</td>\n",
              "      <td id=\"T_e1b9f_row7_col8\" class=\"data row7 col8\" >0.004946</td>\n",
              "      <td id=\"T_e1b9f_row7_col9\" class=\"data row7 col9\" >0.000120</td>\n",
              "      <td id=\"T_e1b9f_row7_col10\" class=\"data row7 col10\" >-0.004656</td>\n",
              "      <td id=\"T_e1b9f_row7_col11\" class=\"data row7 col11\" >-0.015458</td>\n",
              "    </tr>\n",
              "    <tr>\n",
              "      <th id=\"T_e1b9f_level0_row8\" class=\"row_heading level0 row8\" >avg_glucose_level</th>\n",
              "      <td id=\"T_e1b9f_row8_col0\" class=\"data row8 col0\" >0.001092</td>\n",
              "      <td id=\"T_e1b9f_row8_col1\" class=\"data row8 col1\" >-0.053804</td>\n",
              "      <td id=\"T_e1b9f_row8_col2\" class=\"data row8 col2\" >0.238171</td>\n",
              "      <td id=\"T_e1b9f_row8_col3\" class=\"data row8 col3\" >0.174474</td>\n",
              "      <td id=\"T_e1b9f_row8_col4\" class=\"data row8 col4\" >0.161857</td>\n",
              "      <td id=\"T_e1b9f_row8_col5\" class=\"data row8 col5\" >0.155068</td>\n",
              "      <td id=\"T_e1b9f_row8_col6\" class=\"data row8 col6\" >-0.068135</td>\n",
              "      <td id=\"T_e1b9f_row8_col7\" class=\"data row8 col7\" >0.004946</td>\n",
              "      <td id=\"T_e1b9f_row8_col8\" class=\"data row8 col8\" >1.000000</td>\n",
              "      <td id=\"T_e1b9f_row8_col9\" class=\"data row8 col9\" >0.168751</td>\n",
              "      <td id=\"T_e1b9f_row8_col10\" class=\"data row8 col10\" >-0.097732</td>\n",
              "      <td id=\"T_e1b9f_row8_col11\" class=\"data row8 col11\" >0.131945</td>\n",
              "    </tr>\n",
              "    <tr>\n",
              "      <th id=\"T_e1b9f_level0_row9\" class=\"row_heading level0 row9\" >bmi</th>\n",
              "      <td id=\"T_e1b9f_row9_col0\" class=\"data row9 col0\" >0.002999</td>\n",
              "      <td id=\"T_e1b9f_row9_col1\" class=\"data row9 col1\" >0.024737</td>\n",
              "      <td id=\"T_e1b9f_row9_col2\" class=\"data row9 col2\" >0.325942</td>\n",
              "      <td id=\"T_e1b9f_row9_col3\" class=\"data row9 col3\" >0.160189</td>\n",
              "      <td id=\"T_e1b9f_row9_col4\" class=\"data row9 col4\" >0.038899</td>\n",
              "      <td id=\"T_e1b9f_row9_col5\" class=\"data row9 col5\" >0.335705</td>\n",
              "      <td id=\"T_e1b9f_row9_col6\" class=\"data row9 col6\" >-0.341973</td>\n",
              "      <td id=\"T_e1b9f_row9_col7\" class=\"data row9 col7\" >0.000120</td>\n",
              "      <td id=\"T_e1b9f_row9_col8\" class=\"data row9 col8\" >0.168751</td>\n",
              "      <td id=\"T_e1b9f_row9_col9\" class=\"data row9 col9\" >1.000000</td>\n",
              "      <td id=\"T_e1b9f_row9_col10\" class=\"data row9 col10\" >-0.230553</td>\n",
              "      <td id=\"T_e1b9f_row9_col11\" class=\"data row9 col11\" >0.038947</td>\n",
              "    </tr>\n",
              "    <tr>\n",
              "      <th id=\"T_e1b9f_level0_row10\" class=\"row_heading level0 row10\" >smoking_status</th>\n",
              "      <td id=\"T_e1b9f_row10_col0\" class=\"data row10 col0\" >-0.018551</td>\n",
              "      <td id=\"T_e1b9f_row10_col1\" class=\"data row10 col1\" >-0.040207</td>\n",
              "      <td id=\"T_e1b9f_row10_col2\" class=\"data row10 col2\" >-0.375845</td>\n",
              "      <td id=\"T_e1b9f_row10_col3\" class=\"data row10 col3\" >-0.129012</td>\n",
              "      <td id=\"T_e1b9f_row10_col4\" class=\"data row10 col4\" >-0.064671</td>\n",
              "      <td id=\"T_e1b9f_row10_col5\" class=\"data row10 col5\" >-0.303694</td>\n",
              "      <td id=\"T_e1b9f_row10_col6\" class=\"data row10 col6\" >0.307774</td>\n",
              "      <td id=\"T_e1b9f_row10_col7\" class=\"data row10 col7\" >-0.004656</td>\n",
              "      <td id=\"T_e1b9f_row10_col8\" class=\"data row10 col8\" >-0.097732</td>\n",
              "      <td id=\"T_e1b9f_row10_col9\" class=\"data row10 col9\" >-0.230553</td>\n",
              "      <td id=\"T_e1b9f_row10_col10\" class=\"data row10 col10\" >1.000000</td>\n",
              "      <td id=\"T_e1b9f_row10_col11\" class=\"data row10 col11\" >-0.066393</td>\n",
              "    </tr>\n",
              "    <tr>\n",
              "      <th id=\"T_e1b9f_level0_row11\" class=\"row_heading level0 row11\" >stroke</th>\n",
              "      <td id=\"T_e1b9f_row11_col0\" class=\"data row11 col0\" >0.006388</td>\n",
              "      <td id=\"T_e1b9f_row11_col1\" class=\"data row11 col1\" >-0.009276</td>\n",
              "      <td id=\"T_e1b9f_row11_col2\" class=\"data row11 col2\" >0.245257</td>\n",
              "      <td id=\"T_e1b9f_row11_col3\" class=\"data row11 col3\" >0.127904</td>\n",
              "      <td id=\"T_e1b9f_row11_col4\" class=\"data row11 col4\" >0.134914</td>\n",
              "      <td id=\"T_e1b9f_row11_col5\" class=\"data row11 col5\" >0.108340</td>\n",
              "      <td id=\"T_e1b9f_row11_col6\" class=\"data row11 col6\" >-0.058224</td>\n",
              "      <td id=\"T_e1b9f_row11_col7\" class=\"data row11 col7\" >-0.015458</td>\n",
              "      <td id=\"T_e1b9f_row11_col8\" class=\"data row11 col8\" >0.131945</td>\n",
              "      <td id=\"T_e1b9f_row11_col9\" class=\"data row11 col9\" >0.038947</td>\n",
              "      <td id=\"T_e1b9f_row11_col10\" class=\"data row11 col10\" >-0.066393</td>\n",
              "      <td id=\"T_e1b9f_row11_col11\" class=\"data row11 col11\" >1.000000</td>\n",
              "    </tr>\n",
              "  </tbody>\n",
              "</table>\n"
            ]
          },
          "metadata": {},
          "execution_count": 70
        }
      ]
    },
    {
      "cell_type": "markdown",
      "source": [
        "Dropping features which show low correlation with target"
      ],
      "metadata": {
        "id": "b0XeUS7XncVs"
      }
    },
    {
      "cell_type": "code",
      "source": [
        "df = df.drop(['id', 'gender', 'Residence_type', 'work_type', 'smoking_status'], axis=1)"
      ],
      "metadata": {
        "id": "v3ayEv_ynb7V"
      },
      "execution_count": null,
      "outputs": []
    },
    {
      "cell_type": "markdown",
      "source": [
        "Forming train and test data by splitting, scaling and oversampling our data."
      ],
      "metadata": {
        "id": "zikO0IzgNtus"
      }
    },
    {
      "cell_type": "code",
      "source": [
        "from imblearn.over_sampling import RandomOverSampler, SMOTE\n",
        "\n",
        "train, test = np.split(df.sample(frac=1),[int(0.8*len(df))])\n",
        "\n",
        "def scale(df, ovs=False):\n",
        "    x = df[df.columns[:-1]].values\n",
        "    y = df[df.columns[-1]].values\n",
        "    scaler = StandardScaler()\n",
        "\n",
        "    if ovs:\n",
        "        ros = RandomOverSampler()\n",
        "        x, y = ros.fit_resample(x,y)\n",
        "\n",
        "    x = scaler.fit_transform(x)\n",
        "    data = np.hstack((x, np.reshape(y,(len(y),1))))\n",
        "\n",
        "    return x, y, data\n",
        "\n",
        "x_train, y_train, train = scale(train, ovs=True)\n",
        "x_test, y_test, test = scale(test)"
      ],
      "metadata": {
        "id": "0dWtLE_SAABT"
      },
      "execution_count": null,
      "outputs": []
    },
    {
      "cell_type": "markdown",
      "source": [
        "Classification using Neural Network"
      ],
      "metadata": {
        "id": "4Cccr3x4iQqm"
      }
    },
    {
      "cell_type": "code",
      "source": [
        "nnet = tf.keras.Sequential([\n",
        "    tf.keras.layers.Dense(64, activation='relu', input_shape=(6,)),\n",
        "    tf.keras.layers.Dense(64, activation='relu'),\n",
        "    tf.keras.layers.Dense(1, activation='sigmoid')\n",
        "])\n",
        "nnet.compile(optimizer=tf.keras.optimizers.Adam(0.001), loss='binary_crossentropy', metrics=['accuracy'])\n",
        "history = nnet.fit(x_train, y_train, epochs=100, batch_size=32, validation_split=0.2, verbose=0)\n",
        "y_pred_nnet = nnet.predict(x_test)\n",
        "y_pred_nnet = (y_pred_nnet > 0.5).astype(int).reshape((-1,))\n"
      ],
      "metadata": {
        "colab": {
          "base_uri": "https://localhost:8080/"
        },
        "id": "CtSsrTlcN393",
        "outputId": "7549d2c9-2ac8-43b3-aacf-f3a611049964"
      },
      "execution_count": null,
      "outputs": [
        {
          "output_type": "stream",
          "name": "stdout",
          "text": [
            "32/32 [==============================] - 0s 1ms/step\n"
          ]
        }
      ]
    },
    {
      "cell_type": "markdown",
      "source": [
        "Classification report"
      ],
      "metadata": {
        "id": "ABH7V1xOicCk"
      }
    },
    {
      "cell_type": "code",
      "source": [
        "print(classification_report(y_test,y_pred_nnet))"
      ],
      "metadata": {
        "colab": {
          "base_uri": "https://localhost:8080/"
        },
        "id": "59G4JvNGibUO",
        "outputId": "696c8c13-29fc-4e64-a707-091225555936"
      },
      "execution_count": null,
      "outputs": [
        {
          "output_type": "stream",
          "name": "stdout",
          "text": [
            "              precision    recall  f1-score   support\n",
            "\n",
            "           0       0.97      0.74      0.84       975\n",
            "           1       0.10      0.57      0.16        47\n",
            "\n",
            "    accuracy                           0.73      1022\n",
            "   macro avg       0.53      0.66      0.50      1022\n",
            "weighted avg       0.93      0.73      0.81      1022\n",
            "\n"
          ]
        }
      ]
    },
    {
      "cell_type": "markdown",
      "source": [
        "Confusion Matrix"
      ],
      "metadata": {
        "id": "-Ft7OP_Y2zDE"
      }
    },
    {
      "cell_type": "code",
      "source": [
        "from sklearn.metrics import confusion_matrix, ConfusionMatrixDisplay\n",
        "\n",
        "cfm = confusion_matrix(y_test, y_pred_nnet)\n",
        "cfmd = ConfusionMatrixDisplay(confusion_matrix = cfm)\n",
        "cfmd.plot()\n",
        "plt.show()"
      ],
      "metadata": {
        "colab": {
          "base_uri": "https://localhost:8080/",
          "height": 449
        },
        "id": "xk2OevXw1x3O",
        "outputId": "eaa1756e-1a95-4fff-86aa-5881735a7511"
      },
      "execution_count": null,
      "outputs": [
        {
          "output_type": "display_data",
          "data": {
            "text/plain": [
              "<Figure size 640x480 with 2 Axes>"
            ],
            "image/png": "[encoded data removed]"
          },
          "metadata": {}
        }
      ]
    },
    {
      "cell_type": "markdown",
      "source": [
        "The precision for predicting '1' is very low due to the skewed data. This is why Random oversampling was used to improve the predictions. However, precision saw very little improvement and even decreased sometimes. On using SMOTE, we do notice a significant increase in recall."
      ],
      "metadata": {
        "id": "Kjqi53PCmZx9"
      }
    }
  ]
}
